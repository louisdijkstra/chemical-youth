{
 "cells": [
  {
   "cell_type": "code",
   "execution_count": 14,
   "metadata": {
    "collapsed": true
   },
   "outputs": [],
   "source": [
    "import sys\n",
    "import os\n",
    "import numpy as np\n",
    "import pandas as pd\n",
    "from pandas import DataFrame"
   ]
  },
  {
   "cell_type": "code",
   "execution_count": 18,
   "metadata": {
    "collapsed": false
   },
   "outputs": [
    {
     "name": "stderr",
     "output_type": "stream",
     "text": [
      "b'Skipping line 30271: expected 3 fields, saw 4\\nSkipping line 40139: expected 3 fields, saw 4\\nSkipping line 57971: expected 3 fields, saw 4\\nSkipping line 63938: expected 3 fields, saw 4\\nSkipping line 155750: expected 3 fields, saw 4\\nSkipping line 189033: expected 3 fields, saw 4\\nSkipping line 211254: expected 3 fields, saw 4\\nSkipping line 225727: expected 3 fields, saw 4\\nSkipping line 227173: expected 3 fields, saw 4\\nSkipping line 234483: expected 3 fields, saw 4\\nSkipping line 242541: expected 3 fields, saw 4\\nSkipping line 244991: expected 3 fields, saw 4\\nSkipping line 251746: expected 3 fields, saw 4\\nSkipping line 255639: expected 3 fields, saw 4\\n'\n"
     ]
    }
   ],
   "source": [
    "df = pd.read_table('data/top-articles-designer-drugs.tsv', sep='\\t', error_bad_lines=False)"
   ]
  },
  {
   "cell_type": "code",
   "execution_count": 23,
   "metadata": {
    "collapsed": false
   },
   "outputs": [],
   "source": [
    "file = open('data/articles.txt', 'w')\n",
    "\n",
    "unique_titles = set()\n",
    "\n",
    "for title in df.title: \n",
    "    unique_titles.add(title)\n",
    "    \n",
    "for title in unique_titles:\n",
    "    print(title, file=file)"
   ]
  },
  {
   "cell_type": "code",
   "execution_count": null,
   "metadata": {
    "collapsed": true
   },
   "outputs": [],
   "source": []
  }
 ],
 "metadata": {
  "kernelspec": {
   "display_name": "Python 3",
   "language": "python",
   "name": "python3"
  },
  "language_info": {
   "codemirror_mode": {
    "name": "ipython",
    "version": 3
   },
   "file_extension": ".py",
   "mimetype": "text/x-python",
   "name": "python",
   "nbconvert_exporter": "python",
   "pygments_lexer": "ipython3",
   "version": "3.5.0"
  }
 },
 "nbformat": 4,
 "nbformat_minor": 0
}
